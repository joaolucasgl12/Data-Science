{
  "nbformat": 4,
  "nbformat_minor": 0,
  "metadata": {
    "colab": {
      "name": "Custos Médicos.ipynb",
      "provenance": [],
      "authorship_tag": "ABX9TyO2Tfno8zha0KRtNkMEECS2",
      "include_colab_link": true
    },
    "kernelspec": {
      "name": "python3",
      "display_name": "Python 3"
    },
    "language_info": {
      "name": "python"
    }
  },
  "cells": [
    {
      "cell_type": "markdown",
      "metadata": {
        "id": "view-in-github",
        "colab_type": "text"
      },
      "source": [
        "<a href=\"https://colab.research.google.com/github/joaolucasgl12/Projetos_MachineLearning/blob/main/Custos_M%C3%A9dicos.ipynb\" target=\"_parent\"><img src=\"https://colab.research.google.com/assets/colab-badge.svg\" alt=\"Open In Colab\"/></a>"
      ]
    },
    {
      "cell_type": "markdown",
      "metadata": {
        "id": "T3a5JwU4tXvT"
      },
      "source": [
        "### Problema: Estimar o custo médico de clientes.\n",
        "### Solução: Prever o custo médico de cada cliente.\n",
        "\n",
        "Dataset: https://www.kaggle.com/mirichoi0218/insurance"
      ]
    },
    {
      "cell_type": "markdown",
      "metadata": {
        "id": "uLMNxoG9lSKD"
      },
      "source": [
        " ## Traduções das   Colunas\n",
        "\n",
        "**idade:** idade do beneficiário primário\n",
        "\n",
        "**sexo:** gênero empreiteiro de seguros, feminino, masculino\n",
        "\n",
        "**bmi**: Índice de massa corporal, proporcionando uma compreensão do corpo, pesos relativamente altos ou baixos em relação à altura,\n",
        "índice objetivo de peso corporal (kg / m ^ 2) utilizando a razão de altura para peso, idealmente 18,5 a 24,9\n",
        "\n",
        "**crianças**: Número de crianças cobertas por seguro de saúde / Número de dependentes\n",
        "\n",
        "**fumante**: Fumar\n",
        "\n",
        "**região**: área residencial do beneficiário nos EUA, nordeste, sudeste, sudoeste, noroeste.\n",
        "\n",
        "**Encargos**: Custos médicos individuais cobrados pelo seguro de saúde"
      ]
    },
    {
      "cell_type": "code",
      "metadata": {
        "id": "HYlGr0ZOme3M",
        "colab": {
          "base_uri": "https://localhost:8080/"
        },
        "outputId": "fa46e468-bd99-4e6a-8946-111c82675930"
      },
      "source": [
        "!pip install plotly==5.1.0"
      ],
      "execution_count": 1,
      "outputs": [
        {
          "output_type": "stream",
          "text": [
            "Requirement already satisfied: plotly==5.1.0 in /usr/local/lib/python3.7/dist-packages (5.1.0)\n",
            "Requirement already satisfied: six in /usr/local/lib/python3.7/dist-packages (from plotly==5.1.0) (1.15.0)\n",
            "Requirement already satisfied: tenacity>=6.2.0 in /usr/local/lib/python3.7/dist-packages (from plotly==5.1.0) (7.0.0)\n"
          ],
          "name": "stdout"
        }
      ]
    },
    {
      "cell_type": "code",
      "metadata": {
        "id": "jK7rhLopk0qc"
      },
      "source": [
        "import pandas as pd\n",
        "import numpy as np\n",
        "import seaborn as sns\n",
        "import matplotlib.pyplot as plt\n",
        "import plotly.express as px\n",
        "import plotly.graph_objs as go"
      ],
      "execution_count": 2,
      "outputs": []
    },
    {
      "cell_type": "code",
      "metadata": {
        "colab": {
          "base_uri": "https://localhost:8080/",
          "height": 204
        },
        "id": "MbSHCnlVyZsP",
        "outputId": "32207647-2e88-48f1-aa60-e49e88cdfff4"
      },
      "source": [
        "base_seguro = pd.read_csv('/content/insurance.csv')\n",
        "base_seguro.head()"
      ],
      "execution_count": 3,
      "outputs": [
        {
          "output_type": "execute_result",
          "data": {
            "text/html": [
              "<div>\n",
              "<style scoped>\n",
              "    .dataframe tbody tr th:only-of-type {\n",
              "        vertical-align: middle;\n",
              "    }\n",
              "\n",
              "    .dataframe tbody tr th {\n",
              "        vertical-align: top;\n",
              "    }\n",
              "\n",
              "    .dataframe thead th {\n",
              "        text-align: right;\n",
              "    }\n",
              "</style>\n",
              "<table border=\"1\" class=\"dataframe\">\n",
              "  <thead>\n",
              "    <tr style=\"text-align: right;\">\n",
              "      <th></th>\n",
              "      <th>age</th>\n",
              "      <th>sex</th>\n",
              "      <th>bmi</th>\n",
              "      <th>children</th>\n",
              "      <th>smoker</th>\n",
              "      <th>region</th>\n",
              "      <th>charges</th>\n",
              "    </tr>\n",
              "  </thead>\n",
              "  <tbody>\n",
              "    <tr>\n",
              "      <th>0</th>\n",
              "      <td>19</td>\n",
              "      <td>female</td>\n",
              "      <td>27.900</td>\n",
              "      <td>0</td>\n",
              "      <td>yes</td>\n",
              "      <td>southwest</td>\n",
              "      <td>16884.92400</td>\n",
              "    </tr>\n",
              "    <tr>\n",
              "      <th>1</th>\n",
              "      <td>18</td>\n",
              "      <td>male</td>\n",
              "      <td>33.770</td>\n",
              "      <td>1</td>\n",
              "      <td>no</td>\n",
              "      <td>southeast</td>\n",
              "      <td>1725.55230</td>\n",
              "    </tr>\n",
              "    <tr>\n",
              "      <th>2</th>\n",
              "      <td>28</td>\n",
              "      <td>male</td>\n",
              "      <td>33.000</td>\n",
              "      <td>3</td>\n",
              "      <td>no</td>\n",
              "      <td>southeast</td>\n",
              "      <td>4449.46200</td>\n",
              "    </tr>\n",
              "    <tr>\n",
              "      <th>3</th>\n",
              "      <td>33</td>\n",
              "      <td>male</td>\n",
              "      <td>22.705</td>\n",
              "      <td>0</td>\n",
              "      <td>no</td>\n",
              "      <td>northwest</td>\n",
              "      <td>21984.47061</td>\n",
              "    </tr>\n",
              "    <tr>\n",
              "      <th>4</th>\n",
              "      <td>32</td>\n",
              "      <td>male</td>\n",
              "      <td>28.880</td>\n",
              "      <td>0</td>\n",
              "      <td>no</td>\n",
              "      <td>northwest</td>\n",
              "      <td>3866.85520</td>\n",
              "    </tr>\n",
              "  </tbody>\n",
              "</table>\n",
              "</div>"
            ],
            "text/plain": [
              "   age     sex     bmi  children smoker     region      charges\n",
              "0   19  female  27.900         0    yes  southwest  16884.92400\n",
              "1   18    male  33.770         1     no  southeast   1725.55230\n",
              "2   28    male  33.000         3     no  southeast   4449.46200\n",
              "3   33    male  22.705         0     no  northwest  21984.47061\n",
              "4   32    male  28.880         0     no  northwest   3866.85520"
            ]
          },
          "metadata": {
            "tags": []
          },
          "execution_count": 3
        }
      ]
    },
    {
      "cell_type": "code",
      "metadata": {
        "id": "ZZhtJ-Mp_fqv"
      },
      "source": [
        "# Subtituindo yes por 1 caso fume e 0 para os que não fume\n",
        "base_seguro['smoker'] = base_seguro['smoker'].apply(lambda x: 1 if x=='yes' else 0)"
      ],
      "execution_count": 4,
      "outputs": []
    },
    {
      "cell_type": "code",
      "metadata": {
        "colab": {
          "base_uri": "https://localhost:8080/",
          "height": 204
        },
        "id": "2nll-sr8FVcD",
        "outputId": "642db87c-a849-4890-9b78-ffacfba7de0d"
      },
      "source": [
        "# Atualizado\n",
        "base_seguro.head()"
      ],
      "execution_count": 5,
      "outputs": [
        {
          "output_type": "execute_result",
          "data": {
            "text/html": [
              "<div>\n",
              "<style scoped>\n",
              "    .dataframe tbody tr th:only-of-type {\n",
              "        vertical-align: middle;\n",
              "    }\n",
              "\n",
              "    .dataframe tbody tr th {\n",
              "        vertical-align: top;\n",
              "    }\n",
              "\n",
              "    .dataframe thead th {\n",
              "        text-align: right;\n",
              "    }\n",
              "</style>\n",
              "<table border=\"1\" class=\"dataframe\">\n",
              "  <thead>\n",
              "    <tr style=\"text-align: right;\">\n",
              "      <th></th>\n",
              "      <th>age</th>\n",
              "      <th>sex</th>\n",
              "      <th>bmi</th>\n",
              "      <th>children</th>\n",
              "      <th>smoker</th>\n",
              "      <th>region</th>\n",
              "      <th>charges</th>\n",
              "    </tr>\n",
              "  </thead>\n",
              "  <tbody>\n",
              "    <tr>\n",
              "      <th>0</th>\n",
              "      <td>19</td>\n",
              "      <td>female</td>\n",
              "      <td>27.900</td>\n",
              "      <td>0</td>\n",
              "      <td>1</td>\n",
              "      <td>southwest</td>\n",
              "      <td>16884.92400</td>\n",
              "    </tr>\n",
              "    <tr>\n",
              "      <th>1</th>\n",
              "      <td>18</td>\n",
              "      <td>male</td>\n",
              "      <td>33.770</td>\n",
              "      <td>1</td>\n",
              "      <td>0</td>\n",
              "      <td>southeast</td>\n",
              "      <td>1725.55230</td>\n",
              "    </tr>\n",
              "    <tr>\n",
              "      <th>2</th>\n",
              "      <td>28</td>\n",
              "      <td>male</td>\n",
              "      <td>33.000</td>\n",
              "      <td>3</td>\n",
              "      <td>0</td>\n",
              "      <td>southeast</td>\n",
              "      <td>4449.46200</td>\n",
              "    </tr>\n",
              "    <tr>\n",
              "      <th>3</th>\n",
              "      <td>33</td>\n",
              "      <td>male</td>\n",
              "      <td>22.705</td>\n",
              "      <td>0</td>\n",
              "      <td>0</td>\n",
              "      <td>northwest</td>\n",
              "      <td>21984.47061</td>\n",
              "    </tr>\n",
              "    <tr>\n",
              "      <th>4</th>\n",
              "      <td>32</td>\n",
              "      <td>male</td>\n",
              "      <td>28.880</td>\n",
              "      <td>0</td>\n",
              "      <td>0</td>\n",
              "      <td>northwest</td>\n",
              "      <td>3866.85520</td>\n",
              "    </tr>\n",
              "  </tbody>\n",
              "</table>\n",
              "</div>"
            ],
            "text/plain": [
              "   age     sex     bmi  children  smoker     region      charges\n",
              "0   19  female  27.900         0       1  southwest  16884.92400\n",
              "1   18    male  33.770         1       0  southeast   1725.55230\n",
              "2   28    male  33.000         3       0  southeast   4449.46200\n",
              "3   33    male  22.705         0       0  northwest  21984.47061\n",
              "4   32    male  28.880         0       0  northwest   3866.85520"
            ]
          },
          "metadata": {
            "tags": []
          },
          "execution_count": 5
        }
      ]
    },
    {
      "cell_type": "code",
      "metadata": {
        "colab": {
          "base_uri": "https://localhost:8080/"
        },
        "id": "81cQftBKy3kD",
        "outputId": "54e30fb2-e6a1-418c-c72c-456102f689d1"
      },
      "source": [
        "base_seguro.info()"
      ],
      "execution_count": 6,
      "outputs": [
        {
          "output_type": "stream",
          "text": [
            "<class 'pandas.core.frame.DataFrame'>\n",
            "RangeIndex: 1338 entries, 0 to 1337\n",
            "Data columns (total 7 columns):\n",
            " #   Column    Non-Null Count  Dtype  \n",
            "---  ------    --------------  -----  \n",
            " 0   age       1338 non-null   int64  \n",
            " 1   sex       1338 non-null   object \n",
            " 2   bmi       1338 non-null   float64\n",
            " 3   children  1338 non-null   int64  \n",
            " 4   smoker    1338 non-null   int64  \n",
            " 5   region    1338 non-null   object \n",
            " 6   charges   1338 non-null   float64\n",
            "dtypes: float64(2), int64(3), object(2)\n",
            "memory usage: 73.3+ KB\n"
          ],
          "name": "stdout"
        }
      ]
    },
    {
      "cell_type": "code",
      "metadata": {
        "colab": {
          "base_uri": "https://localhost:8080/",
          "height": 297
        },
        "id": "B5HWpFCGzCT5",
        "outputId": "0b10d0c6-5ec4-4767-a13d-aaca56e7b122"
      },
      "source": [
        "base_seguro.describe()"
      ],
      "execution_count": 7,
      "outputs": [
        {
          "output_type": "execute_result",
          "data": {
            "text/html": [
              "<div>\n",
              "<style scoped>\n",
              "    .dataframe tbody tr th:only-of-type {\n",
              "        vertical-align: middle;\n",
              "    }\n",
              "\n",
              "    .dataframe tbody tr th {\n",
              "        vertical-align: top;\n",
              "    }\n",
              "\n",
              "    .dataframe thead th {\n",
              "        text-align: right;\n",
              "    }\n",
              "</style>\n",
              "<table border=\"1\" class=\"dataframe\">\n",
              "  <thead>\n",
              "    <tr style=\"text-align: right;\">\n",
              "      <th></th>\n",
              "      <th>age</th>\n",
              "      <th>bmi</th>\n",
              "      <th>children</th>\n",
              "      <th>smoker</th>\n",
              "      <th>charges</th>\n",
              "    </tr>\n",
              "  </thead>\n",
              "  <tbody>\n",
              "    <tr>\n",
              "      <th>count</th>\n",
              "      <td>1338.000000</td>\n",
              "      <td>1338.000000</td>\n",
              "      <td>1338.000000</td>\n",
              "      <td>1338.000000</td>\n",
              "      <td>1338.000000</td>\n",
              "    </tr>\n",
              "    <tr>\n",
              "      <th>mean</th>\n",
              "      <td>39.207025</td>\n",
              "      <td>30.663397</td>\n",
              "      <td>1.094918</td>\n",
              "      <td>0.204783</td>\n",
              "      <td>13270.422265</td>\n",
              "    </tr>\n",
              "    <tr>\n",
              "      <th>std</th>\n",
              "      <td>14.049960</td>\n",
              "      <td>6.098187</td>\n",
              "      <td>1.205493</td>\n",
              "      <td>0.403694</td>\n",
              "      <td>12110.011237</td>\n",
              "    </tr>\n",
              "    <tr>\n",
              "      <th>min</th>\n",
              "      <td>18.000000</td>\n",
              "      <td>15.960000</td>\n",
              "      <td>0.000000</td>\n",
              "      <td>0.000000</td>\n",
              "      <td>1121.873900</td>\n",
              "    </tr>\n",
              "    <tr>\n",
              "      <th>25%</th>\n",
              "      <td>27.000000</td>\n",
              "      <td>26.296250</td>\n",
              "      <td>0.000000</td>\n",
              "      <td>0.000000</td>\n",
              "      <td>4740.287150</td>\n",
              "    </tr>\n",
              "    <tr>\n",
              "      <th>50%</th>\n",
              "      <td>39.000000</td>\n",
              "      <td>30.400000</td>\n",
              "      <td>1.000000</td>\n",
              "      <td>0.000000</td>\n",
              "      <td>9382.033000</td>\n",
              "    </tr>\n",
              "    <tr>\n",
              "      <th>75%</th>\n",
              "      <td>51.000000</td>\n",
              "      <td>34.693750</td>\n",
              "      <td>2.000000</td>\n",
              "      <td>0.000000</td>\n",
              "      <td>16639.912515</td>\n",
              "    </tr>\n",
              "    <tr>\n",
              "      <th>max</th>\n",
              "      <td>64.000000</td>\n",
              "      <td>53.130000</td>\n",
              "      <td>5.000000</td>\n",
              "      <td>1.000000</td>\n",
              "      <td>63770.428010</td>\n",
              "    </tr>\n",
              "  </tbody>\n",
              "</table>\n",
              "</div>"
            ],
            "text/plain": [
              "               age          bmi     children       smoker       charges\n",
              "count  1338.000000  1338.000000  1338.000000  1338.000000   1338.000000\n",
              "mean     39.207025    30.663397     1.094918     0.204783  13270.422265\n",
              "std      14.049960     6.098187     1.205493     0.403694  12110.011237\n",
              "min      18.000000    15.960000     0.000000     0.000000   1121.873900\n",
              "25%      27.000000    26.296250     0.000000     0.000000   4740.287150\n",
              "50%      39.000000    30.400000     1.000000     0.000000   9382.033000\n",
              "75%      51.000000    34.693750     2.000000     0.000000  16639.912515\n",
              "max      64.000000    53.130000     5.000000     1.000000  63770.428010"
            ]
          },
          "metadata": {
            "tags": []
          },
          "execution_count": 7
        }
      ]
    },
    {
      "cell_type": "markdown",
      "metadata": {
        "id": "LsNVh7BPr7Xj"
      },
      "source": [
        "## Visualição Gráfica"
      ]
    },
    {
      "cell_type": "code",
      "metadata": {
        "colab": {
          "base_uri": "https://localhost:8080/",
          "height": 390
        },
        "id": "FMxT1_zK34ar",
        "outputId": "2f363e16-3673-4dc3-bad6-1e4f01f0e423"
      },
      "source": [
        "plt.subplots(figsize=(10,6))\n",
        "sns.heatmap(base_seguro.isnull(),cbar=False);\n",
        "plt.title('Verificação de dados faltantes');"
      ],
      "execution_count": 8,
      "outputs": [
        {
          "output_type": "display_data",
          "data": {
            "image/png": "[encoded data removed]",
            "text/plain": [
              "<Figure size 720x432 with 1 Axes>"
            ]
          },
          "metadata": {
            "tags": [],
            "needs_background": "light"
          }
        }
      ]
    },
    {
      "cell_type": "code",
      "metadata": {
        "colab": {
          "base_uri": "https://localhost:8080/",
          "height": 499
        },
        "id": "QCsU0kgw1ZZD",
        "outputId": "3cf57ef3-62f8-445d-bb0e-c7ff730cb22a"
      },
      "source": [
        "base_seguro.hist(bins=20,figsize=(15,8),);"
      ],
      "execution_count": 9,
      "outputs": [
        {
          "output_type": "display_data",
          "data": {
            "image/png": "[encoded data removed]",
            "text/plain": [
              "<Figure size 1080x576 with 6 Axes>"
            ]
          },
          "metadata": {
            "tags": [],
            "needs_background": "light"
          }
        }
      ]
    },
    {
      "cell_type": "code",
      "metadata": {
        "colab": {
          "base_uri": "https://localhost:8080/",
          "height": 404
        },
        "id": "EIJ-YPihFZvN",
        "outputId": "4e531f05-efb0-4a6a-dc03-f0e626f0f6c4"
      },
      "source": [
        "plt.subplots(figsize=(10,6));\n",
        "sns.histplot(x='charges',hue='smoker',data=base_seguro)\n",
        "plt.title('Custo do seguro saúde de pessoas não fumantes e fumantes');"
      ],
      "execution_count": 10,
      "outputs": [
        {
          "output_type": "display_data",
          "data": {
            "image/png": "[encoded data removed]",
            "text/plain": [
              "<Figure size 720x432 with 1 Axes>"
            ]
          },
          "metadata": {
            "tags": [],
            "needs_background": "light"
          }
        }
      ]
    },
    {
      "cell_type": "code",
      "metadata": {
        "colab": {
          "base_uri": "https://localhost:8080/",
          "height": 404
        },
        "id": "OqtbcYtbCCVl",
        "outputId": "e846b447-00ac-43d1-9f46-9677c2432ee5"
      },
      "source": [
        "plt.subplots(figsize=(10,6))\n",
        "sns.countplot(x='sex',hue='smoker',data=base_seguro);\n",
        "plt.title('O genêro sexual que tem mais fumantes');"
      ],
      "execution_count": 11,
      "outputs": [
        {
          "output_type": "display_data",
          "data": {
            "image/png": "[encoded data removed]",
            "text/plain": [
              "<Figure size 720x432 with 1 Axes>"
            ]
          },
          "metadata": {
            "tags": [],
            "needs_background": "light"
          }
        }
      ]
    },
    {
      "cell_type": "code",
      "metadata": {
        "colab": {
          "base_uri": "https://localhost:8080/",
          "height": 404
        },
        "id": "kdbK-lRc2nS9",
        "outputId": "4ab07dd5-86b8-4103-8dce-a6ab6f56745d"
      },
      "source": [
        "plt.subplots(figsize=(10,6))\n",
        "sns.boxplot(x='charges',y='sex',data=base_seguro);\n",
        "plt.title('Custo de seguro saúde cobrado por genêro');"
      ],
      "execution_count": 12,
      "outputs": [
        {
          "output_type": "display_data",
          "data": {
            "image/png": "[encoded data removed]",
            "text/plain": [
              "<Figure size 720x432 with 1 Axes>"
            ]
          },
          "metadata": {
            "tags": [],
            "needs_background": "light"
          }
        }
      ]
    },
    {
      "cell_type": "code",
      "metadata": {
        "colab": {
          "base_uri": "https://localhost:8080/",
          "height": 404
        },
        "id": "X5cx8kZXgDGO",
        "outputId": "29d7c256-47d8-468d-d1a9-408446896dc5"
      },
      "source": [
        "plt.subplots(figsize=(10,6))\n",
        "sns.countplot(x='region',hue='smoker',data=base_seguro);\n",
        "plt.title('Região que tem mais fumantes e não fumantes');"
      ],
      "execution_count": 13,
      "outputs": [
        {
          "output_type": "display_data",
          "data": {
            "image/png": "[encoded data removed]",
            "text/plain": [
              "<Figure size 720x432 with 1 Axes>"
            ]
          },
          "metadata": {
            "tags": [],
            "needs_background": "light"
          }
        }
      ]
    },
    {
      "cell_type": "code",
      "metadata": {
        "colab": {
          "base_uri": "https://localhost:8080/",
          "height": 404
        },
        "id": "JXQ-JyAuan5a",
        "outputId": "841719a6-6e6c-45bb-fbd0-6926793ff276"
      },
      "source": [
        "plt.subplots(figsize=(10,6))\n",
        "sns.boxplot(x='charges',y='region',data=base_seguro);\n",
        "plt.title('Custo de seguro saúde cobrado por região');\n",
        "# a região southeast é que tem mais fumantes e a região que tem mais custos com seguro saúde."
      ],
      "execution_count": 14,
      "outputs": [
        {
          "output_type": "display_data",
          "data": {
            "image/png": "[encoded data removed]",
            "text/plain": [
              "<Figure size 720x432 with 1 Axes>"
            ]
          },
          "metadata": {
            "tags": [],
            "needs_background": "light"
          }
        }
      ]
    },
    {
      "cell_type": "code",
      "metadata": {
        "colab": {
          "base_uri": "https://localhost:8080/",
          "height": 513
        },
        "id": "wNBBl_Ksmja4",
        "outputId": "5ecd8840-2b59-4a02-c226-196a1e7e17ae"
      },
      "source": [
        "plt.subplots(figsize=(15,8))\n",
        "sns.countplot(x='age',hue='smoker',data=base_seguro);\n",
        "plt.title('Idades que tem mais fumantes e não fumantes');"
      ],
      "execution_count": 15,
      "outputs": [
        {
          "output_type": "display_data",
          "data": {
            "image/png": "[encoded data removed]",
            "text/plain": [
              "<Figure size 1080x576 with 1 Axes>"
            ]
          },
          "metadata": {
            "tags": [],
            "needs_background": "light"
          }
        }
      ]
    },
    {
      "cell_type": "code",
      "metadata": {
        "colab": {
          "base_uri": "https://localhost:8080/",
          "height": 404
        },
        "id": "vYeQaFN0phKw",
        "outputId": "7f343321-392e-46f7-95a4-ef6a2dfcbcd0"
      },
      "source": [
        "plt.subplots(figsize=(10,6))\n",
        "sns.boxplot(y=\"smoker\", x=\"charges\",hue='sex', data = base_seguro[(base_seguro.age == 19)] , orient=\"h\")\n",
        "plt.title(\"Custo de pessoas com 19 anos não fumantes e fumantes \");"
      ],
      "execution_count": 16,
      "outputs": [
        {
          "output_type": "display_data",
          "data": {
            "image/png": "[encoded data removed]",
            "text/plain": [
              "<Figure size 720x432 with 1 Axes>"
            ]
          },
          "metadata": {
            "tags": [],
            "needs_background": "light"
          }
        }
      ]
    },
    {
      "cell_type": "code",
      "metadata": {
        "colab": {
          "base_uri": "https://localhost:8080/",
          "height": 404
        },
        "id": "17InwHMn2RNg",
        "outputId": "41d93555-bfdb-44a5-a9f4-d2e0a9f42450"
      },
      "source": [
        "plt.subplots(figsize=(10,6))\n",
        "sns.scatterplot(x='age',y='charges',data=base_seguro,palette='magma',hue='smoker');\n",
        "plt.title('Dispersão dos dados de fumantes e não fumantes de acordo com a idade e o custo');"
      ],
      "execution_count": 17,
      "outputs": [
        {
          "output_type": "display_data",
          "data": {
            "image/png": "[encoded data removed]",
            "text/plain": [
              "<Figure size 720x432 with 1 Axes>"
            ]
          },
          "metadata": {
            "tags": [],
            "needs_background": "light"
          }
        }
      ]
    },
    {
      "cell_type": "code",
      "metadata": {
        "colab": {
          "base_uri": "https://localhost:8080/",
          "height": 455
        },
        "id": "D5niQTnedL8A",
        "outputId": "259bfad4-9e51-4b4c-d982-93cac884a523"
      },
      "source": [
        "sns.lmplot(x='age',y='charges',hue='smoker',data=base_seguro,palette='magma',height=6);"
      ],
      "execution_count": 18,
      "outputs": [
        {
          "output_type": "display_data",
          "data": {
            "image/png": "[encoded data removed]",
            "text/plain": [
              "<Figure size 476.5x432 with 1 Axes>"
            ]
          },
          "metadata": {
            "tags": [],
            "needs_background": "light"
          }
        }
      ]
    },
    {
      "cell_type": "markdown",
      "metadata": {
        "id": "upJLTas9aURS"
      },
      "source": [
        "**Correlação**: é a medida de grau de relação entre duas variávies que varia de -1 até 1.\n",
        "\n",
        "   * valores positivos - indica que quando uma variavel aumenta a outra também aumenta.\n",
        "\n",
        "* valores negativos - indica que quando uma variável aumenta a outra diminue.\n",
        "\n",
        "\n",
        "    (0,03 até 0,65) - correlação média\n",
        "    (0,65 até 0,95) - correlação forte \n",
        "    (0,95 até 1) - correlação muito forte\n",
        "\n",
        "OBS: as classificações de correlações serve tanto para valores positivos e negativos "
      ]
    },
    {
      "cell_type": "code",
      "metadata": {
        "colab": {
          "base_uri": "https://localhost:8080/",
          "height": 499
        },
        "id": "T66GdDoUDp10",
        "outputId": "402ee1c2-92ca-403a-d9ea-f34171a66b3f"
      },
      "source": [
        "correlacao = base_seguro.corr()\n",
        "plt.subplots(figsize=(15,8));\n",
        "sns.heatmap(correlacao,annot=True);\n",
        "plt.title('Correlações ');"
      ],
      "execution_count": 19,
      "outputs": [
        {
          "output_type": "display_data",
          "data": {
            "image/png": "[encoded data removed]",
            "text/plain": [
              "<Figure size 1080x576 with 2 Axes>"
            ]
          },
          "metadata": {
            "tags": [],
            "needs_background": "light"
          }
        }
      ]
    },
    {
      "cell_type": "markdown",
      "metadata": {
        "id": "6wWdIJaFJ3mt"
      },
      "source": [
        "##Pré processamento"
      ]
    },
    {
      "cell_type": "code",
      "metadata": {
        "colab": {
          "base_uri": "https://localhost:8080/",
          "height": 204
        },
        "id": "LjCqP7k5J3Bb",
        "outputId": "cded4146-2d43-492a-f189-41d7ee9afaf8"
      },
      "source": [
        "base_seguro.head()"
      ],
      "execution_count": 20,
      "outputs": [
        {
          "output_type": "execute_result",
          "data": {
            "text/html": [
              "<div>\n",
              "<style scoped>\n",
              "    .dataframe tbody tr th:only-of-type {\n",
              "        vertical-align: middle;\n",
              "    }\n",
              "\n",
              "    .dataframe tbody tr th {\n",
              "        vertical-align: top;\n",
              "    }\n",
              "\n",
              "    .dataframe thead th {\n",
              "        text-align: right;\n",
              "    }\n",
              "</style>\n",
              "<table border=\"1\" class=\"dataframe\">\n",
              "  <thead>\n",
              "    <tr style=\"text-align: right;\">\n",
              "      <th></th>\n",
              "      <th>age</th>\n",
              "      <th>sex</th>\n",
              "      <th>bmi</th>\n",
              "      <th>children</th>\n",
              "      <th>smoker</th>\n",
              "      <th>region</th>\n",
              "      <th>charges</th>\n",
              "    </tr>\n",
              "  </thead>\n",
              "  <tbody>\n",
              "    <tr>\n",
              "      <th>0</th>\n",
              "      <td>19</td>\n",
              "      <td>female</td>\n",
              "      <td>27.900</td>\n",
              "      <td>0</td>\n",
              "      <td>1</td>\n",
              "      <td>southwest</td>\n",
              "      <td>16884.92400</td>\n",
              "    </tr>\n",
              "    <tr>\n",
              "      <th>1</th>\n",
              "      <td>18</td>\n",
              "      <td>male</td>\n",
              "      <td>33.770</td>\n",
              "      <td>1</td>\n",
              "      <td>0</td>\n",
              "      <td>southeast</td>\n",
              "      <td>1725.55230</td>\n",
              "    </tr>\n",
              "    <tr>\n",
              "      <th>2</th>\n",
              "      <td>28</td>\n",
              "      <td>male</td>\n",
              "      <td>33.000</td>\n",
              "      <td>3</td>\n",
              "      <td>0</td>\n",
              "      <td>southeast</td>\n",
              "      <td>4449.46200</td>\n",
              "    </tr>\n",
              "    <tr>\n",
              "      <th>3</th>\n",
              "      <td>33</td>\n",
              "      <td>male</td>\n",
              "      <td>22.705</td>\n",
              "      <td>0</td>\n",
              "      <td>0</td>\n",
              "      <td>northwest</td>\n",
              "      <td>21984.47061</td>\n",
              "    </tr>\n",
              "    <tr>\n",
              "      <th>4</th>\n",
              "      <td>32</td>\n",
              "      <td>male</td>\n",
              "      <td>28.880</td>\n",
              "      <td>0</td>\n",
              "      <td>0</td>\n",
              "      <td>northwest</td>\n",
              "      <td>3866.85520</td>\n",
              "    </tr>\n",
              "  </tbody>\n",
              "</table>\n",
              "</div>"
            ],
            "text/plain": [
              "   age     sex     bmi  children  smoker     region      charges\n",
              "0   19  female  27.900         0       1  southwest  16884.92400\n",
              "1   18    male  33.770         1       0  southeast   1725.55230\n",
              "2   28    male  33.000         3       0  southeast   4449.46200\n",
              "3   33    male  22.705         0       0  northwest  21984.47061\n",
              "4   32    male  28.880         0       0  northwest   3866.85520"
            ]
          },
          "metadata": {
            "tags": []
          },
          "execution_count": 20
        }
      ]
    },
    {
      "cell_type": "markdown",
      "metadata": {
        "id": "GO7UEQKVySy1"
      },
      "source": [
        "### Aplicando o método get_dummies()\n",
        "objetivo: transforma dados não númericos em númericos "
      ]
    },
    {
      "cell_type": "code",
      "metadata": {
        "colab": {
          "base_uri": "https://localhost:8080/"
        },
        "id": "bunO8wTJCbVr",
        "outputId": "d704af79-26e4-490b-d8c6-b6f119eb2354"
      },
      "source": [
        "# Transformando dados não numericos em númericos \n",
        "x = base_seguro.iloc[:,0:6]\n",
        "x = pd.get_dummies(x).values\n",
        "x"
      ],
      "execution_count": 21,
      "outputs": [
        {
          "output_type": "execute_result",
          "data": {
            "text/plain": [
              "array([[19.  , 27.9 ,  0.  , ...,  0.  ,  0.  ,  1.  ],\n",
              "       [18.  , 33.77,  1.  , ...,  0.  ,  1.  ,  0.  ],\n",
              "       [28.  , 33.  ,  3.  , ...,  0.  ,  1.  ,  0.  ],\n",
              "       ...,\n",
              "       [18.  , 36.85,  0.  , ...,  0.  ,  1.  ,  0.  ],\n",
              "       [21.  , 25.8 ,  0.  , ...,  0.  ,  0.  ,  1.  ],\n",
              "       [61.  , 29.07,  0.  , ...,  1.  ,  0.  ,  0.  ]])"
            ]
          },
          "metadata": {
            "tags": []
          },
          "execution_count": 21
        }
      ]
    },
    {
      "cell_type": "code",
      "metadata": {
        "colab": {
          "base_uri": "https://localhost:8080/"
        },
        "id": "o-UBgLN0BYC4",
        "outputId": "a7700607-9f07-4ca0-96ec-047b72b8459b"
      },
      "source": [
        "y = base_seguro[['charges']].values\n",
        "y"
      ],
      "execution_count": 22,
      "outputs": [
        {
          "output_type": "execute_result",
          "data": {
            "text/plain": [
              "array([[16884.924 ],\n",
              "       [ 1725.5523],\n",
              "       [ 4449.462 ],\n",
              "       ...,\n",
              "       [ 1629.8335],\n",
              "       [ 2007.945 ],\n",
              "       [29141.3603]])"
            ]
          },
          "metadata": {
            "tags": []
          },
          "execution_count": 22
        }
      ]
    },
    {
      "cell_type": "markdown",
      "metadata": {
        "id": "RWyOcpaPDvTP"
      },
      "source": [
        "### Separando os dados em um conjunto de treino e de teste"
      ]
    },
    {
      "cell_type": "code",
      "metadata": {
        "id": "sljYuwEED48x"
      },
      "source": [
        "from sklearn.model_selection import train_test_split\n",
        "x_train,x_test,y_train,y_test = train_test_split(x,y,test_size=0.25,random_state = 0) # usando 25% dos dados para teste e random para garantir que usará os mesmos dados"
      ],
      "execution_count": 23,
      "outputs": []
    },
    {
      "cell_type": "code",
      "metadata": {
        "colab": {
          "base_uri": "https://localhost:8080/"
        },
        "id": "ApdGyqq_EL2s",
        "outputId": "555e3f7b-a8d4-49bb-e357-8fa48d992224"
      },
      "source": [
        "x_train.shape,y_train.shape"
      ],
      "execution_count": 24,
      "outputs": [
        {
          "output_type": "execute_result",
          "data": {
            "text/plain": [
              "((1003, 10), (1003, 1))"
            ]
          },
          "metadata": {
            "tags": []
          },
          "execution_count": 24
        }
      ]
    },
    {
      "cell_type": "code",
      "metadata": {
        "id": "6T1gcRlUm0Ax",
        "colab": {
          "base_uri": "https://localhost:8080/"
        },
        "outputId": "d6b756d9-ce01-4505-c552-0fb903510aac"
      },
      "source": [
        "x_test.shape ,y_test.shape"
      ],
      "execution_count": 25,
      "outputs": [
        {
          "output_type": "execute_result",
          "data": {
            "text/plain": [
              "((335, 10), (335, 1))"
            ]
          },
          "metadata": {
            "tags": []
          },
          "execution_count": 25
        }
      ]
    },
    {
      "cell_type": "markdown",
      "metadata": {
        "id": "dU47iLHvYSQz"
      },
      "source": [
        "### Normalizando os dados \n",
        "Para evitar que as varivéis com escalas maiores tenha uma influência sobre as outras variáveis.\n",
        "\n",
        "o método usado é o StandardScaler -> subtrai o valor em questão pela a média da coluna e divide pelo o desvio padrão (valor - média) / desvio padrão. "
      ]
    },
    {
      "cell_type": "code",
      "metadata": {
        "id": "f2Fp_T_f4Ji-"
      },
      "source": [
        "# normalizando as variáveis 'age','children','bmi\n",
        "from sklearn.preprocessing import StandardScaler\n",
        "\n",
        "scaler = StandardScaler()\n",
        "x_train_scaled = x_train.copy()\n",
        "x_train_scaled[:,[0,1,2]] = scaler.fit_transform(x_train[:,[0,1,2]]) \n",
        "\n",
        "x_test_scaled = x_test.copy()\n",
        "x_test_scaled[:,[0,1,2]] = scaler.transform(x_test_scaled[:,[0,1,2]])"
      ],
      "execution_count": 26,
      "outputs": []
    },
    {
      "cell_type": "markdown",
      "metadata": {
        "id": "mshNDXbEEmMF"
      },
      "source": [
        "## Regressao multipla\n",
        "é modelagem entre variáveis númericas , seu objetivo é  encontrar o B0 que o coeficiente da reta, os coeficientes das variaveis explanátorias e encontrar a melhor reta que encaixe nos dados .\n",
        "\n",
        "usando a **equação da reta:**\n",
        "\n",
        "y= b0 + b1 . x1 + b2 . x2...."
      ]
    },
    {
      "cell_type": "code",
      "metadata": {
        "colab": {
          "base_uri": "https://localhost:8080/"
        },
        "id": "mcykMwP_Eo3W",
        "outputId": "3d14a0ee-10da-42a1-f58b-478218f78eb6"
      },
      "source": [
        "from sklearn.linear_model import LinearRegression\n",
        "regressor_linear = LinearRegression()\n",
        "regressor_linear.fit(x_train_scaled,y_train)"
      ],
      "execution_count": 27,
      "outputs": [
        {
          "output_type": "execute_result",
          "data": {
            "text/plain": [
              "LinearRegression(copy_X=True, fit_intercept=True, n_jobs=None, normalize=False)"
            ]
          },
          "metadata": {
            "tags": []
          },
          "execution_count": 27
        }
      ]
    },
    {
      "cell_type": "code",
      "metadata": {
        "colab": {
          "base_uri": "https://localhost:8080/"
        },
        "id": "fZwR5gEMFG3V",
        "outputId": "49a15c0c-31d6-41f4-d298-8185ac9facef"
      },
      "source": [
        "previsao_linear = regressor_linear.predict(x_test_scaled)\n",
        "previsao_linear[0:6]"
      ],
      "execution_count": 28,
      "outputs": [
        {
          "output_type": "execute_result",
          "data": {
            "text/plain": [
              "array([[11121.10140924],\n",
              "       [ 9369.08345223],\n",
              "       [38349.2588068 ],\n",
              "       [16331.93500645],\n",
              "       [ 7041.22770615],\n",
              "       [ 4103.24923177]])"
            ]
          },
          "metadata": {
            "tags": []
          },
          "execution_count": 28
        }
      ]
    },
    {
      "cell_type": "code",
      "metadata": {
        "colab": {
          "base_uri": "https://localhost:8080/"
        },
        "id": "URl5MHGWGMOq",
        "outputId": "13670f30-12ff-4988-c868-d0709d11eccb"
      },
      "source": [
        "y_test[0:6]"
      ],
      "execution_count": 29,
      "outputs": [
        {
          "output_type": "execute_result",
          "data": {
            "text/plain": [
              "array([[ 9724.53   ],\n",
              "       [ 8547.6913 ],\n",
              "       [45702.02235],\n",
              "       [12950.0712 ],\n",
              "       [ 9644.2525 ],\n",
              "       [ 4500.33925]])"
            ]
          },
          "metadata": {
            "tags": []
          },
          "execution_count": 29
        }
      ]
    },
    {
      "cell_type": "code",
      "metadata": {
        "colab": {
          "base_uri": "https://localhost:8080/"
        },
        "id": "FcnIusWfHo6t",
        "outputId": "ab3d2e49-ca74-4155-c819-03aca1a3609e"
      },
      "source": [
        "# B0 -> Coeficiente linear \n",
        "regressor_linear.intercept_"
      ],
      "execution_count": 30,
      "outputs": [
        {
          "output_type": "execute_result",
          "data": {
            "text/plain": [
              "array([8461.6355048])"
            ]
          },
          "metadata": {
            "tags": []
          },
          "execution_count": 30
        }
      ]
    },
    {
      "cell_type": "code",
      "metadata": {
        "colab": {
          "base_uri": "https://localhost:8080/"
        },
        "id": "dO65uut8H9Gh",
        "outputId": "2f849ea2-47db-4d4f-804f-64a0c61ffd0f"
      },
      "source": [
        "# B1,B2.... -> Coeficientes das variáveis explanatorias \n",
        "regressor_linear.coef_"
      ],
      "execution_count": 31,
      "outputs": [
        {
          "output_type": "execute_result",
          "data": {
            "text/plain": [
              "array([[ 3.51541626e+03,  2.07657350e+03,  5.33728116e+02,\n",
              "         2.36566205e+04, -6.63153624e+00,  6.63153624e+00,\n",
              "         5.35344576e+02,  3.42211643e+02, -5.44457080e+02,\n",
              "        -3.33099139e+02]])"
            ]
          },
          "metadata": {
            "tags": []
          },
          "execution_count": 31
        }
      ]
    },
    {
      "cell_type": "code",
      "metadata": {
        "colab": {
          "base_uri": "https://localhost:8080/"
        },
        "id": "YHc033ZaNpdD",
        "outputId": "7f9335cb-b62e-4b38-f4a1-2e84be9f3ae2"
      },
      "source": [
        "# Accuracy\n",
        "regressor_linear_score = regressor_linear.score(x_test_scaled,y_test)\n",
        "regressor_linear_score"
      ],
      "execution_count": 32,
      "outputs": [
        {
          "output_type": "execute_result",
          "data": {
            "text/plain": [
              "0.7958786376014415"
            ]
          },
          "metadata": {
            "tags": []
          },
          "execution_count": 32
        }
      ]
    },
    {
      "cell_type": "code",
      "metadata": {
        "colab": {
          "base_uri": "https://localhost:8080/"
        },
        "id": "w3GOKFzwC1zV",
        "outputId": "e1e36f78-b196-45f9-cea0-fc65cd12e97d"
      },
      "source": [
        "# Usando o método root mean squared error - a soma das diferença dos erros elevada ao quadrado e depois elevar raiz quadrada\n",
        "from sklearn.metrics import mean_squared_error\n",
        "error_linear = np.sqrt(mean_squared_error(y_test,previsao_linear))\n",
        "error_linear"
      ],
      "execution_count": 33,
      "outputs": [
        {
          "output_type": "execute_result",
          "data": {
            "text/plain": [
              "5668.8400259119835"
            ]
          },
          "metadata": {
            "tags": []
          },
          "execution_count": 33
        }
      ]
    },
    {
      "cell_type": "markdown",
      "metadata": {
        "id": "X33MHgzyRaYQ"
      },
      "source": [
        "## Regressao Polynomial\n",
        "\n",
        "é a modelagem entre variáveis númericas e seu objetivo é encontrar o B0 que o coeficiente da reta, os coeficientes das variaveis explanátorias e encontrar a melhor reta que encaixe nos dados .\n",
        "\n",
        "usando a mesma da equação da reta linear sendo que elevando as variavéis explanattorias ao quadrado :\n",
        "\n",
        "y= b0 + b1 . x1 + b2 . x1² + b3 . x2 + b4 .x2² ... "
      ]
    },
    {
      "cell_type": "code",
      "metadata": {
        "id": "YOUf4cFYRdSE"
      },
      "source": [
        "from sklearn.preprocessing import PolynomialFeatures\n",
        "poly = PolynomialFeatures()\n",
        "x_train_poly = poly.fit_transform(x_train_scaled)\n",
        "x_test_poly = poly.transform(x_test_scaled)"
      ],
      "execution_count": 34,
      "outputs": []
    },
    {
      "cell_type": "code",
      "metadata": {
        "colab": {
          "base_uri": "https://localhost:8080/"
        },
        "id": "jUBg7-PaSsJo",
        "outputId": "65f2d538-03d0-41fc-9d2a-3d011250180c"
      },
      "source": [
        "regressor_poly = LinearRegression()\n",
        "regressor_poly.fit(x_train_poly,y_train)"
      ],
      "execution_count": 35,
      "outputs": [
        {
          "output_type": "execute_result",
          "data": {
            "text/plain": [
              "LinearRegression(copy_X=True, fit_intercept=True, n_jobs=None, normalize=False)"
            ]
          },
          "metadata": {
            "tags": []
          },
          "execution_count": 35
        }
      ]
    },
    {
      "cell_type": "code",
      "metadata": {
        "id": "JiMfHeA2S1fg",
        "colab": {
          "base_uri": "https://localhost:8080/"
        },
        "outputId": "b8bfa17b-842d-457f-8733-e7741dab5cac"
      },
      "source": [
        "previsao_poly = regressor_poly.predict(x_test_poly)\n",
        "previsao_poly[0:6]"
      ],
      "execution_count": 36,
      "outputs": [
        {
          "output_type": "execute_result",
          "data": {
            "text/plain": [
              "array([[11581.15527344],\n",
              "       [10271.42089844],\n",
              "       [50273.78027344],\n",
              "       [15070.93652344],\n",
              "       [ 7648.96777344],\n",
              "       [ 4840.30371094]])"
            ]
          },
          "metadata": {
            "tags": []
          },
          "execution_count": 36
        }
      ]
    },
    {
      "cell_type": "code",
      "metadata": {
        "id": "-DfXo4wOTDJr",
        "colab": {
          "base_uri": "https://localhost:8080/"
        },
        "outputId": "72d1c710-e3f5-409a-caaf-eacfc685da36"
      },
      "source": [
        "y_test[0:6]"
      ],
      "execution_count": 37,
      "outputs": [
        {
          "output_type": "execute_result",
          "data": {
            "text/plain": [
              "array([[ 9724.53   ],\n",
              "       [ 8547.6913 ],\n",
              "       [45702.02235],\n",
              "       [12950.0712 ],\n",
              "       [ 9644.2525 ],\n",
              "       [ 4500.33925]])"
            ]
          },
          "metadata": {
            "tags": []
          },
          "execution_count": 37
        }
      ]
    },
    {
      "cell_type": "code",
      "metadata": {
        "colab": {
          "base_uri": "https://localhost:8080/"
        },
        "id": "ouBj-AQATK-3",
        "outputId": "e764f8ee-f784-47e4-fee4-50cd4292997b"
      },
      "source": [
        "# B0 -> valor constante\n",
        "regressor_poly.intercept_"
      ],
      "execution_count": 38,
      "outputs": [
        {
          "output_type": "execute_result",
          "data": {
            "text/plain": [
              "array([7.43078967e+12])"
            ]
          },
          "metadata": {
            "tags": []
          },
          "execution_count": 38
        }
      ]
    },
    {
      "cell_type": "code",
      "metadata": {
        "id": "LPyBfFOhTNr6",
        "colab": {
          "base_uri": "https://localhost:8080/"
        },
        "outputId": "7472b9d7-6baa-4415-c607-f9470116d945"
      },
      "source": [
        "# Coeficentes \n",
        "regressor_poly.coef_[:,0:14]"
      ],
      "execution_count": 39,
      "outputs": [
        {
          "output_type": "execute_result",
          "data": {
            "text/plain": [
              "array([[-8.88663514e+10,  1.07320111e+14,  3.62528492e+14,\n",
              "         1.28323743e+14,  1.84428058e+14,  5.47755676e+14,\n",
              "         1.80598441e+14,  1.00031397e+12, -1.57638744e+14,\n",
              "         2.83441964e+13, -1.60294039e+14,  5.92499852e+02,\n",
              "         7.10621655e+01,  1.04198924e+01]])"
            ]
          },
          "metadata": {
            "tags": []
          },
          "execution_count": 39
        }
      ]
    },
    {
      "cell_type": "code",
      "metadata": {
        "colab": {
          "base_uri": "https://localhost:8080/"
        },
        "id": "yQ3NeP8WTt8x",
        "outputId": "b0d52ffe-1f39-49c3-864f-5b3926ad64b2"
      },
      "source": [
        "# accuraccy\n",
        "regressor_poly_score = regressor_poly.score(x_test_poly,y_test)\n",
        "regressor_poly_score"
      ],
      "execution_count": 40,
      "outputs": [
        {
          "output_type": "execute_result",
          "data": {
            "text/plain": [
              "0.8841875168453485"
            ]
          },
          "metadata": {
            "tags": []
          },
          "execution_count": 40
        }
      ]
    },
    {
      "cell_type": "code",
      "metadata": {
        "colab": {
          "base_uri": "https://localhost:8080/"
        },
        "id": "u6FSOUJaT9ep",
        "outputId": "5ed8ec27-b575-4808-b678-7a10f323d5fc"
      },
      "source": [
        "erro_poly = np.sqrt(mean_squared_error(y_test,previsao_poly))\n",
        "erro_poly"
      ],
      "execution_count": 41,
      "outputs": [
        {
          "output_type": "execute_result",
          "data": {
            "text/plain": [
              "4269.997875939576"
            ]
          },
          "metadata": {
            "tags": []
          },
          "execution_count": 41
        }
      ]
    },
    {
      "cell_type": "markdown",
      "metadata": {
        "id": "Zul0NBuFU7Gc"
      },
      "source": [
        "## Regressão Arvore De Decisão\n",
        "\n",
        "objetivo: emitir uma serie de regras através do ganho de informação. o atributo mais importante ficará no topo.\n",
        "\n"
      ]
    },
    {
      "cell_type": "code",
      "metadata": {
        "colab": {
          "base_uri": "https://localhost:8080/"
        },
        "id": "i5uer9T955CM",
        "outputId": "3e16ae32-ec86-46e8-e111-706c2ae18511"
      },
      "source": [
        "from sklearn.tree import DecisionTreeRegressor\n",
        "regressor_arvore = DecisionTreeRegressor()\n",
        "regressor_arvore.fit(x_train_scaled,y_train)"
      ],
      "execution_count": 42,
      "outputs": [
        {
          "output_type": "execute_result",
          "data": {
            "text/plain": [
              "DecisionTreeRegressor(ccp_alpha=0.0, criterion='mse', max_depth=None,\n",
              "                      max_features=None, max_leaf_nodes=None,\n",
              "                      min_impurity_decrease=0.0, min_impurity_split=None,\n",
              "                      min_samples_leaf=1, min_samples_split=2,\n",
              "                      min_weight_fraction_leaf=0.0, presort='deprecated',\n",
              "                      random_state=None, splitter='best')"
            ]
          },
          "metadata": {
            "tags": []
          },
          "execution_count": 42
        }
      ]
    },
    {
      "cell_type": "code",
      "metadata": {
        "colab": {
          "base_uri": "https://localhost:8080/"
        },
        "id": "SRDH6GWO6MqB",
        "outputId": "a514f7b1-79c5-4a3c-a54c-308e5301e963"
      },
      "source": [
        "previsao_arvore = regressor_arvore.predict(x_test_scaled)\n",
        "previsao_arvore[0:6]"
      ],
      "execution_count": 43,
      "outputs": [
        {
          "output_type": "execute_result",
          "data": {
            "text/plain": [
              "array([10085.846  ,  8233.0975 , 44202.6536 , 13429.0354 ,  9566.9909 ,\n",
              "       21984.47061])"
            ]
          },
          "metadata": {
            "tags": []
          },
          "execution_count": 43
        }
      ]
    },
    {
      "cell_type": "code",
      "metadata": {
        "colab": {
          "base_uri": "https://localhost:8080/"
        },
        "id": "Jjq2jMFs6UGN",
        "outputId": "b3a3cc65-64b2-491a-8cb2-453a303730d9"
      },
      "source": [
        "y_test[0:6]"
      ],
      "execution_count": 44,
      "outputs": [
        {
          "output_type": "execute_result",
          "data": {
            "text/plain": [
              "array([[ 9724.53   ],\n",
              "       [ 8547.6913 ],\n",
              "       [45702.02235],\n",
              "       [12950.0712 ],\n",
              "       [ 9644.2525 ],\n",
              "       [ 4500.33925]])"
            ]
          },
          "metadata": {
            "tags": []
          },
          "execution_count": 44
        }
      ]
    },
    {
      "cell_type": "code",
      "metadata": {
        "colab": {
          "base_uri": "https://localhost:8080/"
        },
        "id": "c45T9zjS6lta",
        "outputId": "bba00b15-f6e6-4ba8-bbc3-5884239bc6f1"
      },
      "source": [
        "regressor_arvore.feature_importances_ # as features mais importantes (age,bmi,children,smoker)"
      ],
      "execution_count": 45,
      "outputs": [
        {
          "output_type": "execute_result",
          "data": {
            "text/plain": [
              "array([0.12904216, 0.2150083 , 0.02461735, 0.60412933, 0.00138263,\n",
              "       0.00374026, 0.00248497, 0.00633824, 0.00589914, 0.00735762])"
            ]
          },
          "metadata": {
            "tags": []
          },
          "execution_count": 45
        }
      ]
    },
    {
      "cell_type": "code",
      "metadata": {
        "colab": {
          "base_uri": "https://localhost:8080/"
        },
        "id": "virqigwr7aw-",
        "outputId": "a93448c5-4db9-4e59-fe05-a77062776ecc"
      },
      "source": [
        "regressor_arvore_score = regressor_arvore.score(x_test_scaled,y_test)\n",
        "regressor_arvore_score"
      ],
      "execution_count": 46,
      "outputs": [
        {
          "output_type": "execute_result",
          "data": {
            "text/plain": [
              "0.7270279275565585"
            ]
          },
          "metadata": {
            "tags": []
          },
          "execution_count": 46
        }
      ]
    },
    {
      "cell_type": "code",
      "metadata": {
        "colab": {
          "base_uri": "https://localhost:8080/"
        },
        "id": "5SVvKvzF8FS1",
        "outputId": "69956638-a42d-404c-d1d3-32ea0a13b57a"
      },
      "source": [
        "erro_arvore = np.sqrt(mean_squared_error(y_test,previsao_arvore))\n",
        "erro_arvore"
      ],
      "execution_count": 47,
      "outputs": [
        {
          "output_type": "execute_result",
          "data": {
            "text/plain": [
              "6555.549193667039"
            ]
          },
          "metadata": {
            "tags": []
          },
          "execution_count": 47
        }
      ]
    },
    {
      "cell_type": "markdown",
      "metadata": {
        "id": "XSIOjpp4Cphz"
      },
      "source": [
        "## Regressor Random Forest\n",
        "objetivo: vai emitir varias arvores de decisao e usar a média dos resultados para dar a resposta final"
      ]
    },
    {
      "cell_type": "code",
      "metadata": {
        "colab": {
          "base_uri": "https://localhost:8080/"
        },
        "id": "ionAi9PKDXc9",
        "outputId": "4650f358-ab10-4696-c337-ef7097b41cef"
      },
      "source": [
        "from sklearn.ensemble import RandomForestRegressor\n",
        "regressor_random = RandomForestRegressor()\n",
        "regressor_random.fit(x_train_scaled,y_train)"
      ],
      "execution_count": 48,
      "outputs": [
        {
          "output_type": "stream",
          "text": [
            "/usr/local/lib/python3.7/dist-packages/ipykernel_launcher.py:3: DataConversionWarning: A column-vector y was passed when a 1d array was expected. Please change the shape of y to (n_samples,), for example using ravel().\n",
            "  This is separate from the ipykernel package so we can avoid doing imports until\n"
          ],
          "name": "stderr"
        },
        {
          "output_type": "execute_result",
          "data": {
            "text/plain": [
              "RandomForestRegressor(bootstrap=True, ccp_alpha=0.0, criterion='mse',\n",
              "                      max_depth=None, max_features='auto', max_leaf_nodes=None,\n",
              "                      max_samples=None, min_impurity_decrease=0.0,\n",
              "                      min_impurity_split=None, min_samples_leaf=1,\n",
              "                      min_samples_split=2, min_weight_fraction_leaf=0.0,\n",
              "                      n_estimators=100, n_jobs=None, oob_score=False,\n",
              "                      random_state=None, verbose=0, warm_start=False)"
            ]
          },
          "metadata": {
            "tags": []
          },
          "execution_count": 48
        }
      ]
    },
    {
      "cell_type": "code",
      "metadata": {
        "colab": {
          "base_uri": "https://localhost:8080/"
        },
        "id": "12i9Me8dD6Ar",
        "outputId": "cc8a1a5b-2933-4868-ce1f-8b14c14cccc6"
      },
      "source": [
        "previsao_random = regressor_random.predict(x_test_scaled)\n",
        "previsao_random[0:6]"
      ],
      "execution_count": 49,
      "outputs": [
        {
          "output_type": "execute_result",
          "data": {
            "text/plain": [
              "array([10649.5532129,  9621.9236561, 45659.8994331, 13082.1234495,\n",
              "        9450.444048 , 10800.4708699])"
            ]
          },
          "metadata": {
            "tags": []
          },
          "execution_count": 49
        }
      ]
    },
    {
      "cell_type": "code",
      "metadata": {
        "colab": {
          "base_uri": "https://localhost:8080/"
        },
        "id": "GX9Vy_L4EMEQ",
        "outputId": "b70fe970-ff55-4904-81f0-7bf7c003d645"
      },
      "source": [
        "y_test[0:6]"
      ],
      "execution_count": 50,
      "outputs": [
        {
          "output_type": "execute_result",
          "data": {
            "text/plain": [
              "array([[ 9724.53   ],\n",
              "       [ 8547.6913 ],\n",
              "       [45702.02235],\n",
              "       [12950.0712 ],\n",
              "       [ 9644.2525 ],\n",
              "       [ 4500.33925]])"
            ]
          },
          "metadata": {
            "tags": []
          },
          "execution_count": 50
        }
      ]
    },
    {
      "cell_type": "code",
      "metadata": {
        "colab": {
          "base_uri": "https://localhost:8080/"
        },
        "id": "Zu4VzhLzENDa",
        "outputId": "83ea1473-5ef9-4288-fbb0-457f4a16b413"
      },
      "source": [
        "regressor_random.feature_importances_"
      ],
      "execution_count": 51,
      "outputs": [
        {
          "output_type": "execute_result",
          "data": {
            "text/plain": [
              "array([0.13746965, 0.21132401, 0.02075247, 0.60289054, 0.00381645,\n",
              "       0.00377088, 0.00554475, 0.0053478 , 0.00498859, 0.00409487])"
            ]
          },
          "metadata": {
            "tags": []
          },
          "execution_count": 51
        }
      ]
    },
    {
      "cell_type": "code",
      "metadata": {
        "colab": {
          "base_uri": "https://localhost:8080/"
        },
        "id": "ry6ShFfJEb2s",
        "outputId": "4deb1777-638e-4935-ac73-41979a4ffcbf"
      },
      "source": [
        "regressor_random_score = regressor_random.score(x_test_scaled,y_test)\n",
        "regressor_random_score"
      ],
      "execution_count": 52,
      "outputs": [
        {
          "output_type": "execute_result",
          "data": {
            "text/plain": [
              "0.8743000204607233"
            ]
          },
          "metadata": {
            "tags": []
          },
          "execution_count": 52
        }
      ]
    },
    {
      "cell_type": "code",
      "metadata": {
        "colab": {
          "base_uri": "https://localhost:8080/"
        },
        "id": "OXfgqCONE_cN",
        "outputId": "772fd138-3e36-4834-93fd-de4f75917eb4"
      },
      "source": [
        "erro_random = np.sqrt(mean_squared_error(y_test,previsao_random))\n",
        "erro_random"
      ],
      "execution_count": 53,
      "outputs": [
        {
          "output_type": "execute_result",
          "data": {
            "text/plain": [
              "4448.540776092908"
            ]
          },
          "metadata": {
            "tags": []
          },
          "execution_count": 53
        }
      ]
    },
    {
      "cell_type": "code",
      "metadata": {
        "colab": {
          "base_uri": "https://localhost:8080/"
        },
        "id": "KuVWMuC9FR96",
        "outputId": "3718ca4c-36b9-4dd1-ca37-5729f0c321f8"
      },
      "source": [
        "print(f'Regressão linear_score =  {regressor_linear_score} | RMSE = {error_linear}\\n')\n",
        "print(f'Regressão polinomial_score = {regressor_poly_score} | RMSE = {erro_poly}\\n')\n",
        "print(f'Regressão arvore_score = {regressor_arvore_score} | RMSE = {erro_arvore}\\n')\n",
        "print(f'Regressão random_score = {regressor_random_score} | RMSE = {erro_random}')"
      ],
      "execution_count": 54,
      "outputs": [
        {
          "output_type": "stream",
          "text": [
            "Regressão linear_score =  0.7958786376014415 | RMSE = 5668.8400259119835\n",
            "\n",
            "Regressão polinomial_score = 0.8841875168453485 | RMSE = 4269.997875939576\n",
            "\n",
            "Regressão arvore_score = 0.7270279275565585 | RMSE = 6555.549193667039\n",
            "\n",
            "Regressão random_score = 0.8743000204607233 | RMSE = 4448.540776092908\n"
          ],
          "name": "stdout"
        }
      ]
    },
    {
      "cell_type": "markdown",
      "metadata": {
        "id": "IKzDKlT4H_sz"
      },
      "source": [
        "## Tuning com GrindSeach\n",
        "objetivo: encontrar os melhores parâmetros para tentar melhorar os  resultados de cada algoritmo  "
      ]
    },
    {
      "cell_type": "code",
      "metadata": {
        "id": "n_GhvlZ7IaLS"
      },
      "source": [
        "from sklearn.model_selection import GridSearchCV\n",
        "\n",
        "parametros_linear = {'n_jobs':['none',5,10,15]}\n",
        "\n",
        "parametros_poly = {'n_jobs':['none',5,10,15]}\n",
        "\n",
        "parametros_arvore = {'criterion' :[\"mse\", \"friedman_mse\", \"mae\"], # função que irá fazer a separação dos dados \n",
        "                     'min_samples_split':[1,2,5], # número minimo de amostra para dividir um nó interno \n",
        "                     'min_samples_leaf':[1,3,5]}  # O número mínimo de amostras necessárias para estar em um nó de folha.\n",
        "\n",
        "parametros_random_forest = {'criterion':[\"mse\",\"mae\"],     # função que irá fazer a separação dos dados para gerar as arvores\n",
        "                            'n_estimators':[10,20,50,100,150],  # número de arvores a ser gerada \n",
        "                            'min_samples_split':[1,2,5],        \n",
        "                            'min_samples_leaf':[1,3,5]} "
      ],
      "execution_count": 55,
      "outputs": []
    },
    {
      "cell_type": "code",
      "metadata": {
        "id": "IIWdOlrGJMEs"
      },
      "source": [
        "# regressão linear\n",
        "grindseach_linear = GridSearchCV(estimator=LinearRegression(),param_grid=parametros_linear)\n",
        "grindseach_linear.fit(x_train,y_train)\n",
        "melhores_parametros_linear = grindseach_linear.best_params_\n",
        "melhor_resultado_linear = grindseach_linear.best_score_\n",
        "\n",
        "# regressão poly\n",
        "grindseach_poly = GridSearchCV(estimator=LinearRegression(),param_grid=parametros_poly)\n",
        "grindseach_poly.fit(x_train,y_train)\n",
        "melhores_parametros_poly = grindseach_poly.best_params_\n",
        "melhor_resultado_poly = grindseach_poly.best_score_\n",
        "\n",
        "# regressão arvore\n",
        "grindseach_arvore = GridSearchCV(estimator=DecisionTreeRegressor(),param_grid=parametros_arvore)\n",
        "grindseach_arvore.fit(x_train,y_train)\n",
        "melhores_parametros_arvore = grindseach_arvore.best_params_\n",
        "melhor_resultado_arvore = grindseach_arvore.best_score_\n",
        "\n",
        "# regressão random\n",
        "grindseach_random = GridSearchCV(estimator=RandomForestRegressor(),param_grid=parametros_random_forest)\n",
        "grindseach_random.fit(x_train,y_train)\n",
        "melhores_parametros_random = grindseach_random.best_params_\n",
        "melhor_resultado_random = grindseach_random.best_score_\n"
      ],
      "execution_count": null,
      "outputs": []
    },
    {
      "cell_type": "code",
      "metadata": {
        "colab": {
          "base_uri": "https://localhost:8080/"
        },
        "id": "FM-hLPq-QRo4",
        "outputId": "929b80cc-5035-426d-d6eb-5031fe034edd"
      },
      "source": [
        "print(f'Regressão_Linear_parametros: {melhores_parametros_linear} e egressão_Linear_resultado: {melhor_resultado_linear}\\n') \n",
        "print(f'Regressão_Poly_parametros: {melhores_parametros_poly} e Regressão_Poly_resultado:{melhor_resultado_poly}\\n') \n",
        "print(f'Regressão_Arvore_parametros:{melhores_parametros_arvore} e Regressão_Arvore_resultado: {melhor_resultado_arvore}') # melhorou \n",
        "print(f'Regressão_Forest_parametros: {melhores_parametros_random} e Regressão_Forest_resultado:{melhor_resultado_random}\\n') "
      ],
      "execution_count": 57,
      "outputs": [
        {
          "output_type": "stream",
          "text": [
            "Regressão_Linear_parametros: {'n_jobs': 'none'} e egressão_Linear_resultado: 0.7219210360943333\n",
            "\n",
            "Regressão_Poly_parametros: {'n_jobs': 'none'} e Regressão_Poly_resultado:0.7219210360943333\n",
            "\n",
            "Regressão_Arvore_parametros:{'criterion': 'mae', 'min_samples_leaf': 5, 'min_samples_split': 2} e Regressão_Arvore_resultado: 0.8192496349087403\n",
            "Regressão_Forest_parametros: {'criterion': 'mae', 'min_samples_leaf': 5, 'min_samples_split': 5, 'n_estimators': 150} e Regressão_Forest_resultado:0.838715700883687\n",
            "\n"
          ],
          "name": "stdout"
        }
      ]
    },
    {
      "cell_type": "markdown",
      "metadata": {
        "id": "okxyv2udUteQ"
      },
      "source": [
        "## Kfolds e Validação Cruzada \n",
        "objetivo: testando K vezes para encontrar os melhores registros para treinamento e para teste."
      ]
    },
    {
      "cell_type": "code",
      "metadata": {
        "id": "LVyZeGiqfrP0"
      },
      "source": [
        "# passando todos a base de dados x e y para aplicar na validação cruzada\n",
        "x_base_seguro = np.concatenate([x_train_scaled,x_test_scaled])\n",
        "y_base_seguro = np.concatenate([y_train,y_test])\n",
        "\n",
        "x_base_seguro_poly = np.concatenate([x_train_poly,x_test_poly])"
      ],
      "execution_count": 58,
      "outputs": []
    },
    {
      "cell_type": "code",
      "metadata": {
        "id": "xZTUGeBWXAiS"
      },
      "source": [
        "from sklearn.model_selection import cross_val_score,KFold\n",
        "\n",
        "resultados_linear = []\n",
        "resultados_poly = []\n",
        "resultados_arvore = []\n",
        "resultados_random = []\n",
        "\n",
        "for i in range(30):\n",
        "  kfold = KFold(n_splits=10,shuffle=True,random_state=i) # dividir a base em 10 vezes e sair testando uma por uma \n",
        "  score = cross_val_score(LinearRegression(),x_base_seguro,y_base_seguro,cv=kfold)\n",
        "  resultados_linear.append(score.mean()) # passando todas as médias de resultados testadas\n",
        "\n",
        "  score = cross_val_score(LinearRegression(),x_base_seguro_poly,y_base_seguro,cv=kfold)\n",
        "  resultados_poly.append(score.mean()) # passando todas as médias de resultados testadas \n",
        "\n",
        "  # Pegando os melhores parâmetros do tuning testadas para arvore (resultado foi melhor )\n",
        "  score = cross_val_score(DecisionTreeRegressor(criterion='mae',min_samples_leaf=5,min_samples_split=2),x_base_seguro,y_base_seguro,cv=kfold) \n",
        "  resultados_arvore.append(score.mean()) # passando todas as médias de resultados testadas \n",
        "\n",
        "  score = cross_val_score(RandomForestRegressor(),x_base_seguro,y_base_seguro,cv=kfold) \n",
        "  resultados_random.append(score.mean()) # passando todas as médias de resultados testadas "
      ],
      "execution_count": null,
      "outputs": []
    },
    {
      "cell_type": "code",
      "metadata": {
        "colab": {
          "base_uri": "https://localhost:8080/",
          "height": 204
        },
        "id": "tOnl8_Wektn6",
        "outputId": "281a8202-4133-4eb2-e4c6-5a01d836c81e"
      },
      "source": [
        "resultados = {'Regressao_Linear':resultados_linear,'Regressao_Polynomial':resultados_poly,\n",
        "              'Regressao_Arvore':resultados_arvore,'Regressao_Random':resultados_random}\n",
        "resultados = pd.DataFrame(resultados)\n",
        "resultados.head()"
      ],
      "execution_count": 60,
      "outputs": [
        {
          "output_type": "execute_result",
          "data": {
            "text/html": [
              "<div>\n",
              "<style scoped>\n",
              "    .dataframe tbody tr th:only-of-type {\n",
              "        vertical-align: middle;\n",
              "    }\n",
              "\n",
              "    .dataframe tbody tr th {\n",
              "        vertical-align: top;\n",
              "    }\n",
              "\n",
              "    .dataframe thead th {\n",
              "        text-align: right;\n",
              "    }\n",
              "</style>\n",
              "<table border=\"1\" class=\"dataframe\">\n",
              "  <thead>\n",
              "    <tr style=\"text-align: right;\">\n",
              "      <th></th>\n",
              "      <th>Regressao_Linear</th>\n",
              "      <th>Regressao_Polynomial</th>\n",
              "      <th>Regressao_Arvore</th>\n",
              "      <th>Regressao_Random</th>\n",
              "    </tr>\n",
              "  </thead>\n",
              "  <tbody>\n",
              "    <tr>\n",
              "      <th>0</th>\n",
              "      <td>0.741524</td>\n",
              "      <td>0.834945</td>\n",
              "      <td>0.840103</td>\n",
              "      <td>0.836617</td>\n",
              "    </tr>\n",
              "    <tr>\n",
              "      <th>1</th>\n",
              "      <td>0.744483</td>\n",
              "      <td>0.836295</td>\n",
              "      <td>0.839004</td>\n",
              "      <td>0.833606</td>\n",
              "    </tr>\n",
              "    <tr>\n",
              "      <th>2</th>\n",
              "      <td>0.734720</td>\n",
              "      <td>0.829373</td>\n",
              "      <td>0.840261</td>\n",
              "      <td>0.833303</td>\n",
              "    </tr>\n",
              "    <tr>\n",
              "      <th>3</th>\n",
              "      <td>0.743844</td>\n",
              "      <td>0.835760</td>\n",
              "      <td>0.836907</td>\n",
              "      <td>0.838152</td>\n",
              "    </tr>\n",
              "    <tr>\n",
              "      <th>4</th>\n",
              "      <td>0.740252</td>\n",
              "      <td>0.831931</td>\n",
              "      <td>0.838346</td>\n",
              "      <td>0.830916</td>\n",
              "    </tr>\n",
              "  </tbody>\n",
              "</table>\n",
              "</div>"
            ],
            "text/plain": [
              "   Regressao_Linear  Regressao_Polynomial  Regressao_Arvore  Regressao_Random\n",
              "0          0.741524              0.834945          0.840103          0.836617\n",
              "1          0.744483              0.836295          0.839004          0.833606\n",
              "2          0.734720              0.829373          0.840261          0.833303\n",
              "3          0.743844              0.835760          0.836907          0.838152\n",
              "4          0.740252              0.831931          0.838346          0.830916"
            ]
          },
          "metadata": {
            "tags": []
          },
          "execution_count": 60
        }
      ]
    },
    {
      "cell_type": "code",
      "metadata": {
        "colab": {
          "base_uri": "https://localhost:8080/",
          "height": 389
        },
        "id": "xJaNJWRHI1Q-",
        "outputId": "7411fddf-b8bf-42ce-e94c-d432ad772139"
      },
      "source": [
        "plt.subplots(figsize=(10,6))\n",
        "sns.histplot(resultados['Regressao_Linear'].sort_values());"
      ],
      "execution_count": 61,
      "outputs": [
        {
          "output_type": "display_data",
          "data": {
            "image/png": "[encoded data removed]",
            "text/plain": [
              "<Figure size 720x432 with 1 Axes>"
            ]
          },
          "metadata": {
            "tags": [],
            "needs_background": "light"
          }
        }
      ]
    },
    {
      "cell_type": "code",
      "metadata": {
        "colab": {
          "base_uri": "https://localhost:8080/",
          "height": 389
        },
        "id": "QoIIywdrQHV0",
        "outputId": "09d31665-9227-4837-adcc-6ae248ef38b5"
      },
      "source": [
        "plt.subplots(figsize=(10,6))\n",
        "sns.histplot(resultados['Regressao_Polynomial'].sort_values());"
      ],
      "execution_count": 62,
      "outputs": [
        {
          "output_type": "display_data",
          "data": {
            "image/png": "[encoded data removed]",
            "text/plain": [
              "<Figure size 720x432 with 1 Axes>"
            ]
          },
          "metadata": {
            "tags": [],
            "needs_background": "light"
          }
        }
      ]
    },
    {
      "cell_type": "code",
      "metadata": {
        "colab": {
          "base_uri": "https://localhost:8080/",
          "height": 389
        },
        "id": "06Hvwg1WP2hM",
        "outputId": "2c894b2b-daf7-48c2-f914-f98c4c28f835"
      },
      "source": [
        "plt.subplots(figsize=(10,6))\n",
        "sns.histplot(resultados['Regressao_Arvore'].sort_values());"
      ],
      "execution_count": 63,
      "outputs": [
        {
          "output_type": "display_data",
          "data": {
            "image/png": "[encoded data removed]",
            "text/plain": [
              "<Figure size 720x432 with 1 Axes>"
            ]
          },
          "metadata": {
            "tags": [],
            "needs_background": "light"
          }
        }
      ]
    },
    {
      "cell_type": "code",
      "metadata": {
        "colab": {
          "base_uri": "https://localhost:8080/",
          "height": 389
        },
        "id": "mv8RtSVTQkat",
        "outputId": "a2ca9a6d-038d-4170-8549-ed32d6732baa"
      },
      "source": [
        "plt.subplots(figsize=(10,6))\n",
        "sns.histplot(resultados['Regressao_Random'].sort_values());"
      ],
      "execution_count": 64,
      "outputs": [
        {
          "output_type": "display_data",
          "data": {
            "image/png": "[encoded data removed]",
            "text/plain": [
              "<Figure size 720x432 with 1 Axes>"
            ]
          },
          "metadata": {
            "tags": [],
            "needs_background": "light"
          }
        }
      ]
    },
    {
      "cell_type": "code",
      "metadata": {
        "colab": {
          "base_uri": "https://localhost:8080/",
          "height": 297
        },
        "id": "YxfZZHOWp3ni",
        "outputId": "599316a0-392b-43f7-a1ba-c1343edef071"
      },
      "source": [
        "resultados.describe()"
      ],
      "execution_count": 65,
      "outputs": [
        {
          "output_type": "execute_result",
          "data": {
            "text/html": [
              "<div>\n",
              "<style scoped>\n",
              "    .dataframe tbody tr th:only-of-type {\n",
              "        vertical-align: middle;\n",
              "    }\n",
              "\n",
              "    .dataframe tbody tr th {\n",
              "        vertical-align: top;\n",
              "    }\n",
              "\n",
              "    .dataframe thead th {\n",
              "        text-align: right;\n",
              "    }\n",
              "</style>\n",
              "<table border=\"1\" class=\"dataframe\">\n",
              "  <thead>\n",
              "    <tr style=\"text-align: right;\">\n",
              "      <th></th>\n",
              "      <th>Regressao_Linear</th>\n",
              "      <th>Regressao_Polynomial</th>\n",
              "      <th>Regressao_Arvore</th>\n",
              "      <th>Regressao_Random</th>\n",
              "    </tr>\n",
              "  </thead>\n",
              "  <tbody>\n",
              "    <tr>\n",
              "      <th>count</th>\n",
              "      <td>30.000000</td>\n",
              "      <td>30.000000</td>\n",
              "      <td>30.000000</td>\n",
              "      <td>30.000000</td>\n",
              "    </tr>\n",
              "    <tr>\n",
              "      <th>mean</th>\n",
              "      <td>0.741615</td>\n",
              "      <td>0.833663</td>\n",
              "      <td>0.840703</td>\n",
              "      <td>0.835758</td>\n",
              "    </tr>\n",
              "    <tr>\n",
              "      <th>std</th>\n",
              "      <td>0.003015</td>\n",
              "      <td>0.004311</td>\n",
              "      <td>0.004604</td>\n",
              "      <td>0.003453</td>\n",
              "    </tr>\n",
              "    <tr>\n",
              "      <th>min</th>\n",
              "      <td>0.734720</td>\n",
              "      <td>0.816331</td>\n",
              "      <td>0.825613</td>\n",
              "      <td>0.826728</td>\n",
              "    </tr>\n",
              "    <tr>\n",
              "      <th>25%</th>\n",
              "      <td>0.739664</td>\n",
              "      <td>0.832411</td>\n",
              "      <td>0.838511</td>\n",
              "      <td>0.833650</td>\n",
              "    </tr>\n",
              "    <tr>\n",
              "      <th>50%</th>\n",
              "      <td>0.741703</td>\n",
              "      <td>0.835117</td>\n",
              "      <td>0.840368</td>\n",
              "      <td>0.835669</td>\n",
              "    </tr>\n",
              "    <tr>\n",
              "      <th>75%</th>\n",
              "      <td>0.744147</td>\n",
              "      <td>0.836012</td>\n",
              "      <td>0.843368</td>\n",
              "      <td>0.837346</td>\n",
              "    </tr>\n",
              "    <tr>\n",
              "      <th>max</th>\n",
              "      <td>0.746604</td>\n",
              "      <td>0.837874</td>\n",
              "      <td>0.849821</td>\n",
              "      <td>0.842487</td>\n",
              "    </tr>\n",
              "  </tbody>\n",
              "</table>\n",
              "</div>"
            ],
            "text/plain": [
              "       Regressao_Linear  ...  Regressao_Random\n",
              "count         30.000000  ...         30.000000\n",
              "mean           0.741615  ...          0.835758\n",
              "std            0.003015  ...          0.003453\n",
              "min            0.734720  ...          0.826728\n",
              "25%            0.739664  ...          0.833650\n",
              "50%            0.741703  ...          0.835669\n",
              "75%            0.744147  ...          0.837346\n",
              "max            0.746604  ...          0.842487\n",
              "\n",
              "[8 rows x 4 columns]"
            ]
          },
          "metadata": {
            "tags": []
          },
          "execution_count": 65
        }
      ]
    },
    {
      "cell_type": "code",
      "metadata": {
        "colab": {
          "base_uri": "https://localhost:8080/"
        },
        "id": "HEw86P-DobES",
        "outputId": "67dbd375-f421-429c-f05b-b37ece2d4f07"
      },
      "source": [
        "# Coeficiente de varição - > indica a porcentagem de variação em relação a média \n",
        "(resultados.std()/resultados.mean()) * 100"
      ],
      "execution_count": 66,
      "outputs": [
        {
          "output_type": "execute_result",
          "data": {
            "text/plain": [
              "Regressao_Linear        0.406504\n",
              "Regressao_Polynomial    0.517152\n",
              "Regressao_Arvore        0.547617\n",
              "Regressao_Random        0.413109\n",
              "dtype: float64"
            ]
          },
          "metadata": {
            "tags": []
          },
          "execution_count": 66
        }
      ]
    },
    {
      "cell_type": "markdown",
      "metadata": {
        "id": "X7QgHZMkmYUr"
      },
      "source": [
        "## Teste de normalidade dos dados resultados\n",
        "**p-values** >= **alpha** ( distribuição normal)\n",
        "\n",
        "**p-values** < **alpha** ( distribuição não normal )\n",
        "\n",
        "caso tenha dados com distribuição não normal, aplico o teste paramétrico \n",
        "(saber se há diferença estatística ou não)"
      ]
    },
    {
      "cell_type": "code",
      "metadata": {
        "colab": {
          "base_uri": "https://localhost:8080/"
        },
        "id": "7swxVsg2mUwn",
        "outputId": "eb358dfb-414a-4e35-cd75-d3e15bd0f9bd"
      },
      "source": [
        "from scipy.stats import shapiro\n",
        "alpha = 0.05\n",
        "shapiro(resultados_linear),shapiro(resultados_poly),shapiro(resultados_arvore),shapiro(resultados_random) # p-values de cada algoritmo"
      ],
      "execution_count": 67,
      "outputs": [
        {
          "output_type": "execute_result",
          "data": {
            "text/plain": [
              "((0.9608325958251953, 0.3252757489681244),\n",
              " (0.7325744032859802, 4.82062978335307e-06),\n",
              " (0.9409965872764587, 0.09675902873277664),\n",
              " (0.9719629287719727, 0.5941661596298218))"
            ]
          },
          "metadata": {
            "tags": []
          },
          "execution_count": 67
        }
      ]
    },
    {
      "cell_type": "code",
      "metadata": {
        "colab": {
          "base_uri": "https://localhost:8080/",
          "height": 369
        },
        "id": "AYF0YMeVo3JC",
        "outputId": "87a6c5ac-2da6-4f2a-fd53-939415c9554e"
      },
      "source": [
        "sns.displot(x= resultados['Regressao_Linear'], kind='kde');"
      ],
      "execution_count": 68,
      "outputs": [
        {
          "output_type": "display_data",
          "data": {
            "image/png": "[encoded data removed]",
            "text/plain": [
              "<Figure size 360x360 with 1 Axes>"
            ]
          },
          "metadata": {
            "tags": [],
            "needs_background": "light"
          }
        }
      ]
    },
    {
      "cell_type": "code",
      "metadata": {
        "colab": {
          "base_uri": "https://localhost:8080/",
          "height": 369
        },
        "id": "8TlrFJ9jpcWO",
        "outputId": "22ae4789-c194-4b24-e008-410c198b3f86"
      },
      "source": [
        "sns.displot(x= resultados['Regressao_Polynomial'], kind='kde');"
      ],
      "execution_count": 69,
      "outputs": [
        {
          "output_type": "display_data",
          "data": {
            "image/png": "[encoded data removed]",
            "text/plain": [
              "<Figure size 360x360 with 1 Axes>"
            ]
          },
          "metadata": {
            "tags": [],
            "needs_background": "light"
          }
        }
      ]
    },
    {
      "cell_type": "code",
      "metadata": {
        "colab": {
          "base_uri": "https://localhost:8080/",
          "height": 369
        },
        "id": "fcQC1XEGpodQ",
        "outputId": "eca47c3f-736c-4356-f9fa-3f3186133036"
      },
      "source": [
        "sns.displot(x= resultados['Regressao_Arvore'], kind='kde');"
      ],
      "execution_count": 70,
      "outputs": [
        {
          "output_type": "display_data",
          "data": {
            "image/png": "[encoded data removed]",
            "text/plain": [
              "<Figure size 360x360 with 1 Axes>"
            ]
          },
          "metadata": {
            "tags": [],
            "needs_background": "light"
          }
        }
      ]
    },
    {
      "cell_type": "code",
      "metadata": {
        "colab": {
          "base_uri": "https://localhost:8080/",
          "height": 369
        },
        "id": "7dI1NjsmpMBH",
        "outputId": "48ec9444-6268-4fa4-fffe-64395f98ff79"
      },
      "source": [
        "sns.displot(x= resultados['Regressao_Random'], kind='kde');"
      ],
      "execution_count": 71,
      "outputs": [
        {
          "output_type": "display_data",
          "data": {
            "image/png": "[encoded data removed]",
            "text/plain": [
              "<Figure size 360x360 with 1 Axes>"
            ]
          },
          "metadata": {
            "tags": [],
            "needs_background": "light"
          }
        }
      ]
    },
    {
      "cell_type": "markdown",
      "metadata": {
        "id": "njHdZTd_rxLC"
      },
      "source": [
        "## Teste de hipótese Anova\n",
        "objetico: saber se há diferença estatística ou não"
      ]
    },
    {
      "cell_type": "code",
      "metadata": {
        "id": "EETtaRPPsKnk"
      },
      "source": [
        "from scipy.stats import f_oneway"
      ],
      "execution_count": 72,
      "outputs": []
    },
    {
      "cell_type": "code",
      "metadata": {
        "colab": {
          "base_uri": "https://localhost:8080/"
        },
        "id": "zuip66bRsTvo",
        "outputId": "0e4879f9-6230-481d-e0a1-d46ff20132c7"
      },
      "source": [
        "_, p = f_oneway(resultados_arvore,resultados_linear,resultados_poly,resultados_random) # pegar so o p-values\n",
        "p"
      ],
      "execution_count": 73,
      "outputs": [
        {
          "output_type": "execute_result",
          "data": {
            "text/plain": [
              "1.0282718019978002e-119"
            ]
          },
          "metadata": {
            "tags": []
          },
          "execution_count": 73
        }
      ]
    },
    {
      "cell_type": "code",
      "metadata": {
        "colab": {
          "base_uri": "https://localhost:8080/"
        },
        "id": "ka2GcsT8ssil",
        "outputId": "eb5ff8d9-df33-488a-937d-77fa1eb29189"
      },
      "source": [
        "if p >= alpha:\n",
        "  print('hipótese alternativa descartada. não há diferença estatística')\n",
        "elif p < alpha:\n",
        "  print('hipótese nula descartada. há diferença estatística')"
      ],
      "execution_count": 74,
      "outputs": [
        {
          "output_type": "stream",
          "text": [
            "hipótese nula descartada. há diferença estatística\n"
          ],
          "name": "stdout"
        }
      ]
    },
    {
      "cell_type": "markdown",
      "metadata": {
        "id": "8VUUWe70vCzc"
      },
      "source": [
        "## Turke\n",
        "objetivo: saber qual é o melhor algoritmo , já que teve diferença estatística "
      ]
    },
    {
      "cell_type": "code",
      "metadata": {
        "colab": {
          "base_uri": "https://localhost:8080/",
          "height": 204
        },
        "id": "laBdT0TlvOeM",
        "outputId": "88837575-e6b5-4c69-8afc-2082e7be755e"
      },
      "source": [
        "# Passando todos os resultados de cada algoritmo para fazer um dataframe com seus respectivos resultados testados\n",
        "resultados_algoritmos = {'accuracy':np.concatenate([resultados_linear,resultados_poly,resultados_arvore,resultados_random]),\n",
        "                         'algoritmos':['Regressao_Linear','Regressao_Linear','Regressao_Linear','Regressao_Linear','Regressao_Linear','Regressao_Linear','Regressao_Linear','Regressao_Linear','Regressao_Linear','Regressao_Linear','Regressao_Linear','Regressao_Linear','Regressao_Linear','Regressao_Linear','Regressao_Linear','Regressao_Linear','Regressao_Linear','Regressao_Linear','Regressao_Linear','Regressao_Linear','Regressao_Linear','Regressao_Linear','Regressao_Linear','Regressao_Linear','Regressao_Linear','Regressao_Linear','Regressao_Linear','Regressao_Linear','Regressao_Linear','Regressao_Linear',\n",
        "                                       'Regressao_Poly','Regressao_Poly','Regressao_Poly','Regressao_Poly','Regressao_Poly','Regressao_Poly','Regressao_Poly','Regressao_Poly','Regressao_Poly','Regressao_Poly','Regressao_Poly','Regressao_Poly','Regressao_Poly','Regressao_Poly','Regressao_Poly','Regressao_Poly','Regressao_Poly','Regressao_Poly','Regressao_Poly','Regressao_Poly','Regressao_Poly','Regressao_Poly','Regressao_Poly','Regressao_Poly','Regressao_Poly','Regressao_Poly','Regressao_Poly','Regressao_Poly','Regressao_Poly','Regressao_Poly',\n",
        "                                       'Regressao_Arvore','Regressao_Arvore','Regressao_Arvore','Regressao_Arvore','Regressao_Arvore','Regressao_Arvore','Regressao_Arvore','Regressao_Arvore','Regressao_Arvore','Regressao_Arvore','Regressao_Arvore','Regressao_Arvore','Regressao_Arvore','Regressao_Arvore','Regressao_Arvore','Regressao_Arvore','Regressao_Arvore','Regressao_Arvore','Regressao_Arvore','Regressao_Arvore','Regressao_Arvore','Regressao_Arvore','Regressao_Arvore','Regressao_Arvore','Regressao_Arvore','Regressao_Arvore','Regressao_Arvore','Regressao_Arvore','Regressao_Arvore','Regressao_Arvore',\n",
        "                                       'Regressao_Random','Regressao_Random','Regressao_Random','Regressao_Random','Regressao_Random','Regressao_Random','Regressao_Random','Regressao_Random','Regressao_Random','Regressao_Random','Regressao_Random','Regressao_Random','Regressao_Random','Regressao_Random','Regressao_Random','Regressao_Random','Regressao_Random','Regressao_Random','Regressao_Random','Regressao_Random','Regressao_Random','Regressao_Random','Regressao_Random','Regressao_Random','Regressao_Random','Regressao_Random','Regressao_Random','Regressao_Random','Regressao_Random','Regressao_Random']}\n",
        "resultados_algoritmos = pd.DataFrame(resultados_algoritmos)\n",
        "resultados_algoritmos.head()"
      ],
      "execution_count": 75,
      "outputs": [
        {
          "output_type": "execute_result",
          "data": {
            "text/html": [
              "<div>\n",
              "<style scoped>\n",
              "    .dataframe tbody tr th:only-of-type {\n",
              "        vertical-align: middle;\n",
              "    }\n",
              "\n",
              "    .dataframe tbody tr th {\n",
              "        vertical-align: top;\n",
              "    }\n",
              "\n",
              "    .dataframe thead th {\n",
              "        text-align: right;\n",
              "    }\n",
              "</style>\n",
              "<table border=\"1\" class=\"dataframe\">\n",
              "  <thead>\n",
              "    <tr style=\"text-align: right;\">\n",
              "      <th></th>\n",
              "      <th>accuracy</th>\n",
              "      <th>algoritmos</th>\n",
              "    </tr>\n",
              "  </thead>\n",
              "  <tbody>\n",
              "    <tr>\n",
              "      <th>0</th>\n",
              "      <td>0.741524</td>\n",
              "      <td>Regressao_Linear</td>\n",
              "    </tr>\n",
              "    <tr>\n",
              "      <th>1</th>\n",
              "      <td>0.744483</td>\n",
              "      <td>Regressao_Linear</td>\n",
              "    </tr>\n",
              "    <tr>\n",
              "      <th>2</th>\n",
              "      <td>0.734720</td>\n",
              "      <td>Regressao_Linear</td>\n",
              "    </tr>\n",
              "    <tr>\n",
              "      <th>3</th>\n",
              "      <td>0.743844</td>\n",
              "      <td>Regressao_Linear</td>\n",
              "    </tr>\n",
              "    <tr>\n",
              "      <th>4</th>\n",
              "      <td>0.740252</td>\n",
              "      <td>Regressao_Linear</td>\n",
              "    </tr>\n",
              "  </tbody>\n",
              "</table>\n",
              "</div>"
            ],
            "text/plain": [
              "   accuracy        algoritmos\n",
              "0  0.741524  Regressao_Linear\n",
              "1  0.744483  Regressao_Linear\n",
              "2  0.734720  Regressao_Linear\n",
              "3  0.743844  Regressao_Linear\n",
              "4  0.740252  Regressao_Linear"
            ]
          },
          "metadata": {
            "tags": []
          },
          "execution_count": 75
        }
      ]
    },
    {
      "cell_type": "code",
      "metadata": {
        "id": "OtTXAfBQxV5A",
        "colab": {
          "base_uri": "https://localhost:8080/"
        },
        "outputId": "6584902f-eb7f-4f10-fca4-141cc07014de"
      },
      "source": [
        "from statsmodels.stats.multicomp import MultiComparison"
      ],
      "execution_count": 76,
      "outputs": [
        {
          "output_type": "stream",
          "text": [
            "/usr/local/lib/python3.7/dist-packages/statsmodels/tools/_testing.py:19: FutureWarning: pandas.util.testing is deprecated. Use the functions in the public API at pandas.testing instead.\n",
            "  import pandas.util.testing as tm\n"
          ],
          "name": "stderr"
        }
      ]
    },
    {
      "cell_type": "code",
      "metadata": {
        "id": "7ldGW9n8xgYY"
      },
      "source": [
        "compara_algoritmo = MultiComparison(resultados_algoritmos['accuracy'],resultados_algoritmos['algoritmos'])"
      ],
      "execution_count": 77,
      "outputs": []
    },
    {
      "cell_type": "code",
      "metadata": {
        "colab": {
          "base_uri": "https://localhost:8080/"
        },
        "id": "3JNT2joaxx2I",
        "outputId": "f69ee00a-3936-40b0-deae-6cce40931ba7"
      },
      "source": [
        "teste_algoritmo = compara_algoritmo.tukeyhsd()\n",
        "print(teste_algoritmo)"
      ],
      "execution_count": 78,
      "outputs": [
        {
          "output_type": "stream",
          "text": [
            "          Multiple Comparison of Means - Tukey HSD, FWER=0.05           \n",
            "========================================================================\n",
            "     group1           group2      meandiff p-adj   lower   upper  reject\n",
            "------------------------------------------------------------------------\n",
            "Regressao_Arvore Regressao_Linear  -0.0991  0.001 -0.1017 -0.0965   True\n",
            "Regressao_Arvore   Regressao_Poly   -0.007  0.001 -0.0097 -0.0044   True\n",
            "Regressao_Arvore Regressao_Random  -0.0049  0.001 -0.0076 -0.0023   True\n",
            "Regressao_Linear   Regressao_Poly    0.092  0.001  0.0894  0.0947   True\n",
            "Regressao_Linear Regressao_Random   0.0941  0.001  0.0915  0.0968   True\n",
            "  Regressao_Poly Regressao_Random   0.0021 0.1653 -0.0005  0.0047  False\n",
            "------------------------------------------------------------------------\n"
          ],
          "name": "stdout"
        }
      ]
    },
    {
      "cell_type": "code",
      "metadata": {
        "colab": {
          "base_uri": "https://localhost:8080/",
          "height": 390
        },
        "id": "EV546I-wyFTO",
        "outputId": "65b336d9-efc3-445b-9abe-6086b694fecc"
      },
      "source": [
        "teste_algoritmo.plot_simultaneous();"
      ],
      "execution_count": 79,
      "outputs": [
        {
          "output_type": "display_data",
          "data": {
            "image/png": "[encoded data removed]",
            "text/plain": [
              "<Figure size 720x432 with 1 Axes>"
            ]
          },
          "metadata": {
            "tags": [],
            "needs_background": "light"
          }
        }
      ]
    },
    {
      "cell_type": "markdown",
      "metadata": {
        "id": "41J_kUbPybdA"
      },
      "source": [
        "## Pegando os três melhores algoritmos"
      ]
    },
    {
      "cell_type": "code",
      "metadata": {
        "colab": {
          "base_uri": "https://localhost:8080/"
        },
        "id": "u9E2k3g_ygrV",
        "outputId": "3c429cec-7cdc-4293-c4d6-5d6e07cd2719"
      },
      "source": [
        "classificador_arvore = DecisionTreeRegressor(criterion='mae',min_samples_leaf=5,min_samples_split=2)\n",
        "classificador_arvore.fit(x_train_scaled,y_train)"
      ],
      "execution_count": 80,
      "outputs": [
        {
          "output_type": "execute_result",
          "data": {
            "text/plain": [
              "DecisionTreeRegressor(ccp_alpha=0.0, criterion='mae', max_depth=None,\n",
              "                      max_features=None, max_leaf_nodes=None,\n",
              "                      min_impurity_decrease=0.0, min_impurity_split=None,\n",
              "                      min_samples_leaf=5, min_samples_split=2,\n",
              "                      min_weight_fraction_leaf=0.0, presort='deprecated',\n",
              "                      random_state=None, splitter='best')"
            ]
          },
          "metadata": {
            "tags": []
          },
          "execution_count": 80
        }
      ]
    },
    {
      "cell_type": "code",
      "metadata": {
        "colab": {
          "base_uri": "https://localhost:8080/"
        },
        "id": "216SeEBgzfif",
        "outputId": "7ea9d601-13c4-446b-df51-2ba81588fd07"
      },
      "source": [
        "classificador_random = RandomForestRegressor()\n",
        "classificador_random.fit(x_train_scaled,y_train)"
      ],
      "execution_count": 81,
      "outputs": [
        {
          "output_type": "stream",
          "text": [
            "/usr/local/lib/python3.7/dist-packages/ipykernel_launcher.py:2: DataConversionWarning: A column-vector y was passed when a 1d array was expected. Please change the shape of y to (n_samples,), for example using ravel().\n",
            "  \n"
          ],
          "name": "stderr"
        },
        {
          "output_type": "execute_result",
          "data": {
            "text/plain": [
              "RandomForestRegressor(bootstrap=True, ccp_alpha=0.0, criterion='mse',\n",
              "                      max_depth=None, max_features='auto', max_leaf_nodes=None,\n",
              "                      max_samples=None, min_impurity_decrease=0.0,\n",
              "                      min_impurity_split=None, min_samples_leaf=1,\n",
              "                      min_samples_split=2, min_weight_fraction_leaf=0.0,\n",
              "                      n_estimators=100, n_jobs=None, oob_score=False,\n",
              "                      random_state=None, verbose=0, warm_start=False)"
            ]
          },
          "metadata": {
            "tags": []
          },
          "execution_count": 81
        }
      ]
    },
    {
      "cell_type": "code",
      "metadata": {
        "colab": {
          "base_uri": "https://localhost:8080/"
        },
        "id": "C83I-LZpzusr",
        "outputId": "fc06b0fe-a6c5-4afa-ef32-034b2ad81bd3"
      },
      "source": [
        "classificador_poly = LinearRegression()\n",
        "classificador_poly.fit(x_train_poly,y_train)"
      ],
      "execution_count": 82,
      "outputs": [
        {
          "output_type": "execute_result",
          "data": {
            "text/plain": [
              "LinearRegression(copy_X=True, fit_intercept=True, n_jobs=None, normalize=False)"
            ]
          },
          "metadata": {
            "tags": []
          },
          "execution_count": 82
        }
      ]
    },
    {
      "cell_type": "markdown",
      "metadata": {
        "id": "UZvbX2c50BnY"
      },
      "source": [
        "## Salvando para produção "
      ]
    },
    {
      "cell_type": "code",
      "metadata": {
        "id": "pnQWWVnu0EEU"
      },
      "source": [
        "import pickle\n",
        "pickle.dump(classificador_arvore,open('classificador_arvore_finalizado.sav','wb'))\n",
        "pickle.dump(classificador_random,open('classificador_random_finalizado.sav','wb'))\n",
        "pickle.dump(classificador_poly,open('classificador_poly_finalizado.sav','wb'))"
      ],
      "execution_count": 83,
      "outputs": []
    }
  ]
}